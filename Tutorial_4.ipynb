{
  "nbformat": 4,
  "nbformat_minor": 0,
  "metadata": {
    "colab": {
      "provenance": []
    },
    "kernelspec": {
      "name": "python3",
      "display_name": "Python 3"
    },
    "language_info": {
      "name": "python"
    }
  },
  "cells": [
    {
      "cell_type": "markdown",
      "source": [
        "# ***Tutorial 4***"
      ],
      "metadata": {
        "id": "FLSaqEQmITJa"
      }
    },
    {
      "cell_type": "code",
      "source": [
        "pip install urllib3"
      ],
      "metadata": {
        "colab": {
          "base_uri": "https://localhost:8080/"
        },
        "id": "9Sdzt93qKM5-",
        "outputId": "fcb8ddf6-2adc-4f7f-973d-4537a107a9c7"
      },
      "execution_count": 6,
      "outputs": [
        {
          "output_type": "stream",
          "name": "stdout",
          "text": [
            "Looking in indexes: https://pypi.org/simple, https://us-python.pkg.dev/colab-wheels/public/simple/\n",
            "Requirement already satisfied: urllib3 in /usr/local/lib/python3.8/dist-packages (1.24.3)\n"
          ]
        }
      ]
    },
    {
      "cell_type": "code",
      "execution_count": 12,
      "metadata": {
        "id": "IfkEXx7PIJks"
      },
      "outputs": [],
      "source": [
        "from urllib import request\n",
        "url = \"https://www.gutenberg.org/files/1661/1661-0.txt\"\n",
        "response = request.urlopen(url)\n",
        "raw = response.read().decode('utf-8')"
      ]
    },
    {
      "cell_type": "code",
      "source": [
        "import nltk\n",
        "nltk.download('punkt')\n",
        "from nltk.tokenize import word_tokenize\n",
        "tokens = word_tokenize(raw)"
      ],
      "metadata": {
        "colab": {
          "base_uri": "https://localhost:8080/"
        },
        "id": "OUTJhxIhKYTg",
        "outputId": "d789a320-6639-495d-f1ab-8414f7e595a2"
      },
      "execution_count": 13,
      "outputs": [
        {
          "output_type": "stream",
          "name": "stderr",
          "text": [
            "[nltk_data] Downloading package punkt to /root/nltk_data...\n",
            "[nltk_data]   Package punkt is already up-to-date!\n"
          ]
        }
      ]
    },
    {
      "cell_type": "code",
      "source": [
        "print(tokens[:2000])"
      ],
      "metadata": {
        "colab": {
          "base_uri": "https://localhost:8080/"
        },
        "id": "OSFNfaFQKzBX",
        "outputId": "949055d3-9842-4e1c-94f3-849bbdbbb48c"
      },
      "execution_count": 15,
      "outputs": [
        {
          "output_type": "stream",
          "name": "stdout",
          "text": [
            "['\\ufeffThe', 'Project', 'Gutenberg', 'eBook', 'of', 'The', 'Adventures', 'of', 'Sherlock', 'Holmes', ',', 'by', 'Arthur', 'Conan', 'Doyle', 'This', 'eBook', 'is', 'for', 'the', 'use', 'of', 'anyone', 'anywhere', 'in', 'the', 'United', 'States', 'and', 'most', 'other', 'parts', 'of', 'the', 'world', 'at', 'no', 'cost', 'and', 'with', 'almost', 'no', 'restrictions', 'whatsoever', '.', 'You', 'may', 'copy', 'it', ',', 'give', 'it', 'away', 'or', 're-use', 'it', 'under', 'the', 'terms', 'of', 'the', 'Project', 'Gutenberg', 'License', 'included', 'with', 'this', 'eBook', 'or', 'online', 'at', 'www.gutenberg.org', '.', 'If', 'you', 'are', 'not', 'located', 'in', 'the', 'United', 'States', ',', 'you', 'will', 'have', 'to', 'check', 'the', 'laws', 'of', 'the', 'country', 'where', 'you', 'are', 'located', 'before', 'using', 'this', 'eBook', '.', 'Title', ':', 'The', 'Adventures', 'of', 'Sherlock', 'Holmes', 'Author', ':', 'Arthur', 'Conan', 'Doyle', 'Release', 'Date', ':', 'November', '29', ',', '2002', '[', 'eBook', '#', '1661', ']', '[', 'Most', 'recently', 'updated', ':', 'May', '20', ',', '2019', ']', 'Language', ':', 'English', 'Character', 'set', 'encoding', ':', 'UTF-8', 'Produced', 'by', ':', 'an', 'anonymous', 'Project', 'Gutenberg', 'volunteer', 'and', 'Jose', 'Menendez', '*', '*', '*', 'START', 'OF', 'THE', 'PROJECT', 'GUTENBERG', 'EBOOK', 'THE', 'ADVENTURES', 'OF', 'SHERLOCK', 'HOLMES', '*', '*', '*', 'cover', 'The', 'Adventures', 'of', 'Sherlock', 'Holmes', 'by', 'Arthur', 'Conan', 'Doyle', 'Contents', 'I', '.', 'A', 'Scandal', 'in', 'Bohemia', 'II', '.', 'The', 'Red-Headed', 'League', 'III', '.', 'A', 'Case', 'of', 'Identity', 'IV', '.', 'The', 'Boscombe', 'Valley', 'Mystery', 'V.', 'The', 'Five', 'Orange', 'Pips', 'VI', '.', 'The', 'Man', 'with', 'the', 'Twisted', 'Lip', 'VII', '.', 'The', 'Adventure', 'of', 'the', 'Blue', 'Carbuncle', 'VIII', '.', 'The', 'Adventure', 'of', 'the', 'Speckled', 'Band', 'IX', '.', 'The', 'Adventure', 'of', 'the', 'Engineer', '’', 's', 'Thumb', 'X', '.', 'The', 'Adventure', 'of', 'the', 'Noble', 'Bachelor', 'XI', '.', 'The', 'Adventure', 'of', 'the', 'Beryl', 'Coronet', 'XII', '.', 'The', 'Adventure', 'of', 'the', 'Copper', 'Beeches', 'I', '.', 'A', 'SCANDAL', 'IN', 'BOHEMIA', 'I', '.', 'To', 'Sherlock', 'Holmes', 'she', 'is', 'always', '_the_', 'woman', '.', 'I', 'have', 'seldom', 'heard', 'him', 'mention', 'her', 'under', 'any', 'other', 'name', '.', 'In', 'his', 'eyes', 'she', 'eclipses', 'and', 'predominates', 'the', 'whole', 'of', 'her', 'sex', '.', 'It', 'was', 'not', 'that', 'he', 'felt', 'any', 'emotion', 'akin', 'to', 'love', 'for', 'Irene', 'Adler', '.', 'All', 'emotions', ',', 'and', 'that', 'one', 'particularly', ',', 'were', 'abhorrent', 'to', 'his', 'cold', ',', 'precise', 'but', 'admirably', 'balanced', 'mind', '.', 'He', 'was', ',', 'I', 'take', 'it', ',', 'the', 'most', 'perfect', 'reasoning', 'and', 'observing', 'machine', 'that', 'the', 'world', 'has', 'seen', ',', 'but', 'as', 'a', 'lover', 'he', 'would', 'have', 'placed', 'himself', 'in', 'a', 'false', 'position', '.', 'He', 'never', 'spoke', 'of', 'the', 'softer', 'passions', ',', 'save', 'with', 'a', 'gibe', 'and', 'a', 'sneer', '.', 'They', 'were', 'admirable', 'things', 'for', 'the', 'observer—excellent', 'for', 'drawing', 'the', 'veil', 'from', 'men', '’', 's', 'motives', 'and', 'actions', '.', 'But', 'for', 'the', 'trained', 'reasoner', 'to', 'admit', 'such', 'intrusions', 'into', 'his', 'own', 'delicate', 'and', 'finely', 'adjusted', 'temperament', 'was', 'to', 'introduce', 'a', 'distracting', 'factor', 'which', 'might', 'throw', 'a', 'doubt', 'upon', 'all', 'his', 'mental', 'results', '.', 'Grit', 'in', 'a', 'sensitive', 'instrument', ',', 'or', 'a', 'crack', 'in', 'one', 'of', 'his', 'own', 'high-power', 'lenses', ',', 'would', 'not', 'be', 'more', 'disturbing', 'than', 'a', 'strong', 'emotion', 'in', 'a', 'nature', 'such', 'as', 'his', '.', 'And', 'yet', 'there', 'was', 'but', 'one', 'woman', 'to', 'him', ',', 'and', 'that', 'woman', 'was', 'the', 'late', 'Irene', 'Adler', ',', 'of', 'dubious', 'and', 'questionable', 'memory', '.', 'I', 'had', 'seen', 'little', 'of', 'Holmes', 'lately', '.', 'My', 'marriage', 'had', 'drifted', 'us', 'away', 'from', 'each', 'other', '.', 'My', 'own', 'complete', 'happiness', ',', 'and', 'the', 'home-centred', 'interests', 'which', 'rise', 'up', 'around', 'the', 'man', 'who', 'first', 'finds', 'himself', 'master', 'of', 'his', 'own', 'establishment', ',', 'were', 'sufficient', 'to', 'absorb', 'all', 'my', 'attention', ',', 'while', 'Holmes', ',', 'who', 'loathed', 'every', 'form', 'of', 'society', 'with', 'his', 'whole', 'Bohemian', 'soul', ',', 'remained', 'in', 'our', 'lodgings', 'in', 'Baker', 'Street', ',', 'buried', 'among', 'his', 'old', 'books', ',', 'and', 'alternating', 'from', 'week', 'to', 'week', 'between', 'cocaine', 'and', 'ambition', ',', 'the', 'drowsiness', 'of', 'the', 'drug', ',', 'and', 'the', 'fierce', 'energy', 'of', 'his', 'own', 'keen', 'nature', '.', 'He', 'was', 'still', ',', 'as', 'ever', ',', 'deeply', 'attracted', 'by', 'the', 'study', 'of', 'crime', ',', 'and', 'occupied', 'his', 'immense', 'faculties', 'and', 'extraordinary', 'powers', 'of', 'observation', 'in', 'following', 'out', 'those', 'clues', ',', 'and', 'clearing', 'up', 'those', 'mysteries', 'which', 'had', 'been', 'abandoned', 'as', 'hopeless', 'by', 'the', 'official', 'police', '.', 'From', 'time', 'to', 'time', 'I', 'heard', 'some', 'vague', 'account', 'of', 'his', 'doings', ':', 'of', 'his', 'summons', 'to', 'Odessa', 'in', 'the', 'case', 'of', 'the', 'Trepoff', 'murder', ',', 'of', 'his', 'clearing', 'up', 'of', 'the', 'singular', 'tragedy', 'of', 'the', 'Atkinson', 'brothers', 'at', 'Trincomalee', ',', 'and', 'finally', 'of', 'the', 'mission', 'which', 'he', 'had', 'accomplished', 'so', 'delicately', 'and', 'successfully', 'for', 'the', 'reigning', 'family', 'of', 'Holland', '.', 'Beyond', 'these', 'signs', 'of', 'his', 'activity', ',', 'however', ',', 'which', 'I', 'merely', 'shared', 'with', 'all', 'the', 'readers', 'of', 'the', 'daily', 'press', ',', 'I', 'knew', 'little', 'of', 'my', 'former', 'friend', 'and', 'companion', '.', 'One', 'night—it', 'was', 'on', 'the', 'twentieth', 'of', 'March', ',', '1888—I', 'was', 'returning', 'from', 'a', 'journey', 'to', 'a', 'patient', '(', 'for', 'I', 'had', 'now', 'returned', 'to', 'civil', 'practice', ')', ',', 'when', 'my', 'way', 'led', 'me', 'through', 'Baker', 'Street', '.', 'As', 'I', 'passed', 'the', 'well-remembered', 'door', ',', 'which', 'must', 'always', 'be', 'associated', 'in', 'my', 'mind', 'with', 'my', 'wooing', ',', 'and', 'with', 'the', 'dark', 'incidents', 'of', 'the', 'Study', 'in', 'Scarlet', ',', 'I', 'was', 'seized', 'with', 'a', 'keen', 'desire', 'to', 'see', 'Holmes', 'again', ',', 'and', 'to', 'know', 'how', 'he', 'was', 'employing', 'his', 'extraordinary', 'powers', '.', 'His', 'rooms', 'were', 'brilliantly', 'lit', ',', 'and', ',', 'even', 'as', 'I', 'looked', 'up', ',', 'I', 'saw', 'his', 'tall', ',', 'spare', 'figure', 'pass', 'twice', 'in', 'a', 'dark', 'silhouette', 'against', 'the', 'blind', '.', 'He', 'was', 'pacing', 'the', 'room', 'swiftly', ',', 'eagerly', ',', 'with', 'his', 'head', 'sunk', 'upon', 'his', 'chest', 'and', 'his', 'hands', 'clasped', 'behind', 'him', '.', 'To', 'me', ',', 'who', 'knew', 'his', 'every', 'mood', 'and', 'habit', ',', 'his', 'attitude', 'and', 'manner', 'told', 'their', 'own', 'story', '.', 'He', 'was', 'at', 'work', 'again', '.', 'He', 'had', 'risen', 'out', 'of', 'his', 'drug-created', 'dreams', 'and', 'was', 'hot', 'upon', 'the', 'scent', 'of', 'some', 'new', 'problem', '.', 'I', 'rang', 'the', 'bell', 'and', 'was', 'shown', 'up', 'to', 'the', 'chamber', 'which', 'had', 'formerly', 'been', 'in', 'part', 'my', 'own', '.', 'His', 'manner', 'was', 'not', 'effusive', '.', 'It', 'seldom', 'was', ';', 'but', 'he', 'was', 'glad', ',', 'I', 'think', ',', 'to', 'see', 'me', '.', 'With', 'hardly', 'a', 'word', 'spoken', ',', 'but', 'with', 'a', 'kindly', 'eye', ',', 'he', 'waved', 'me', 'to', 'an', 'armchair', ',', 'threw', 'across', 'his', 'case', 'of', 'cigars', ',', 'and', 'indicated', 'a', 'spirit', 'case', 'and', 'a', 'gasogene', 'in', 'the', 'corner', '.', 'Then', 'he', 'stood', 'before', 'the', 'fire', 'and', 'looked', 'me', 'over', 'in', 'his', 'singular', 'introspective', 'fashion', '.', '“', 'Wedlock', 'suits', 'you', ',', '”', 'he', 'remarked', '.', '“', 'I', 'think', ',', 'Watson', ',', 'that', 'you', 'have', 'put', 'on', 'seven', 'and', 'a', 'half', 'pounds', 'since', 'I', 'saw', 'you.', '”', '“', 'Seven', '!', '”', 'I', 'answered', '.', '“', 'Indeed', ',', 'I', 'should', 'have', 'thought', 'a', 'little', 'more', '.', 'Just', 'a', 'trifle', 'more', ',', 'I', 'fancy', ',', 'Watson', '.', 'And', 'in', 'practice', 'again', ',', 'I', 'observe', '.', 'You', 'did', 'not', 'tell', 'me', 'that', 'you', 'intended', 'to', 'go', 'into', 'harness.', '”', '“', 'Then', ',', 'how', 'do', 'you', 'know', '?', '”', '“', 'I', 'see', 'it', ',', 'I', 'deduce', 'it', '.', 'How', 'do', 'I', 'know', 'that', 'you', 'have', 'been', 'getting', 'yourself', 'very', 'wet', 'lately', ',', 'and', 'that', 'you', 'have', 'a', 'most', 'clumsy', 'and', 'careless', 'servant', 'girl', '?', '”', '“', 'My', 'dear', 'Holmes', ',', '”', 'said', 'I', ',', '“', 'this', 'is', 'too', 'much', '.', 'You', 'would', 'certainly', 'have', 'been', 'burned', ',', 'had', 'you', 'lived', 'a', 'few', 'centuries', 'ago', '.', 'It', 'is', 'true', 'that', 'I', 'had', 'a', 'country', 'walk', 'on', 'Thursday', 'and', 'came', 'home', 'in', 'a', 'dreadful', 'mess', ',', 'but', 'as', 'I', 'have', 'changed', 'my', 'clothes', 'I', 'can', '’', 't', 'imagine', 'how', 'you', 'deduce', 'it', '.', 'As', 'to', 'Mary', 'Jane', ',', 'she', 'is', 'incorrigible', ',', 'and', 'my', 'wife', 'has', 'given', 'her', 'notice', ',', 'but', 'there', ',', 'again', ',', 'I', 'fail', 'to', 'see', 'how', 'you', 'work', 'it', 'out.', '”', 'He', 'chuckled', 'to', 'himself', 'and', 'rubbed', 'his', 'long', ',', 'nervous', 'hands', 'together', '.', '“', 'It', 'is', 'simplicity', 'itself', ',', '”', 'said', 'he', ';', '“', 'my', 'eyes', 'tell', 'me', 'that', 'on', 'the', 'inside', 'of', 'your', 'left', 'shoe', ',', 'just', 'where', 'the', 'firelight', 'strikes', 'it', ',', 'the', 'leather', 'is', 'scored', 'by', 'six', 'almost', 'parallel', 'cuts', '.', 'Obviously', 'they', 'have', 'been', 'caused', 'by', 'someone', 'who', 'has', 'very', 'carelessly', 'scraped', 'round', 'the', 'edges', 'of', 'the', 'sole', 'in', 'order', 'to', 'remove', 'crusted', 'mud', 'from', 'it', '.', 'Hence', ',', 'you', 'see', ',', 'my', 'double', 'deduction', 'that', 'you', 'had', 'been', 'out', 'in', 'vile', 'weather', ',', 'and', 'that', 'you', 'had', 'a', 'particularly', 'malignant', 'boot-slitting', 'specimen', 'of', 'the', 'London', 'slavey', '.', 'As', 'to', 'your', 'practice', ',', 'if', 'a', 'gentleman', 'walks', 'into', 'my', 'rooms', 'smelling', 'of', 'iodoform', ',', 'with', 'a', 'black', 'mark', 'of', 'nitrate', 'of', 'silver', 'upon', 'his', 'right', 'forefinger', ',', 'and', 'a', 'bulge', 'on', 'the', 'right', 'side', 'of', 'his', 'top-hat', 'to', 'show', 'where', 'he', 'has', 'secreted', 'his', 'stethoscope', ',', 'I', 'must', 'be', 'dull', ',', 'indeed', ',', 'if', 'I', 'do', 'not', 'pronounce', 'him', 'to', 'be', 'an', 'active', 'member', 'of', 'the', 'medical', 'profession.', '”', 'I', 'could', 'not', 'help', 'laughing', 'at', 'the', 'ease', 'with', 'which', 'he', 'explained', 'his', 'process', 'of', 'deduction', '.', '“', 'When', 'I', 'hear', 'you', 'give', 'your', 'reasons', ',', '”', 'I', 'remarked', ',', '“', 'the', 'thing', 'always', 'appears', 'to', 'me', 'to', 'be', 'so', 'ridiculously', 'simple', 'that', 'I', 'could', 'easily', 'do', 'it', 'myself', ',', 'though', 'at', 'each', 'successive', 'instance', 'of', 'your', 'reasoning', 'I', 'am', 'baffled', 'until', 'you', 'explain', 'your', 'process', '.', 'And', 'yet', 'I', 'believe', 'that', 'my', 'eyes', 'are', 'as', 'good', 'as', 'yours.', '”', '“', 'Quite', 'so', ',', '”', 'he', 'answered', ',', 'lighting', 'a', 'cigarette', ',', 'and', 'throwing', 'himself', 'down', 'into', 'an', 'armchair', '.', '“', 'You', 'see', ',', 'but', 'you', 'do', 'not', 'observe', '.', 'The', 'distinction', 'is', 'clear', '.', 'For', 'example', ',', 'you', 'have', 'frequently', 'seen', 'the', 'steps', 'which', 'lead', 'up', 'from', 'the', 'hall', 'to', 'this', 'room.', '”', '“', 'Frequently.', '”', '“', 'How', 'often', '?', '”', '“', 'Well', ',', 'some', 'hundreds', 'of', 'times.', '”', '“', 'Then', 'how', 'many', 'are', 'there', '?', '”', '“', 'How', 'many', '?', 'I', 'don', '’', 't', 'know.', '”', '“', 'Quite', 'so', '!', 'You', 'have', 'not', 'observed', '.', 'And', 'yet', 'you', 'have', 'seen', '.', 'That', 'is', 'just', 'my', 'point', '.', 'Now', ',', 'I', 'know', 'that', 'there', 'are', 'seventeen', 'steps', ',', 'because', 'I', 'have', 'both', 'seen', 'and', 'observed', '.', 'By', 'the', 'way', ',', 'since', 'you', 'are', 'interested', 'in', 'these', 'little', 'problems', ',', 'and', 'since', 'you', 'are', 'good', 'enough', 'to', 'chronicle', 'one', 'or', 'two', 'of', 'my', 'trifling', 'experiences', ',', 'you', 'may', 'be', 'interested', 'in', 'this.', '”', 'He', 'threw', 'over', 'a', 'sheet', 'of', 'thick', ',', 'pink-tinted', 'notepaper', 'which', 'had', 'been', 'lying', 'open', 'upon', 'the', 'table', '.', '“', 'It', 'came', 'by', 'the', 'last', 'post', ',', '”', 'said', 'he', '.', '“', 'Read', 'it', 'aloud.', '”', 'The', 'note', 'was', 'undated', ',', 'and', 'without', 'either', 'signature', 'or', 'address', '.', '“', 'There', 'will', 'call', 'upon', 'you', 'to-night', ',', 'at', 'a', 'quarter', 'to', 'eight', 'o', '’', 'clock', ',', '”', 'it', 'said', ',', '“', 'a', 'gentleman', 'who', 'desires', 'to', 'consult', 'you', 'upon', 'a', 'matter', 'of', 'the', 'very', 'deepest', 'moment', '.', 'Your', 'recent', 'services', 'to', 'one', 'of', 'the', 'royal', 'houses', 'of', 'Europe', 'have', 'shown', 'that', 'you', 'are', 'one', 'who', 'may', 'safely', 'be', 'trusted', 'with', 'matters', 'which', 'are', 'of', 'an', 'importance', 'which', 'can', 'hardly', 'be', 'exaggerated', '.', 'This', 'account', 'of', 'you', 'we', 'have', 'from', 'all', 'quarters', 'received', '.', 'Be', 'in', 'your', 'chamber', 'then', 'at', 'that', 'hour', ',', 'and', 'do', 'not', 'take', 'it', 'amiss', 'if', 'your', 'visitor', 'wear', 'a', 'mask.', '”', '“', 'This', 'is', 'indeed', 'a', 'mystery', ',', '”', 'I', 'remarked', '.', '“', 'What', 'do', 'you', 'imagine', 'that', 'it', 'means', '?', '”', '“', 'I', 'have', 'no', 'data', 'yet', '.', 'It', 'is', 'a', 'capital', 'mistake', 'to', 'theorise', 'before', 'one', 'has', 'data', '.', 'Insensibly', 'one', 'begins', 'to', 'twist', 'facts', 'to', 'suit', 'theories', ',', 'instead', 'of', 'theories', 'to', 'suit', 'facts', '.', 'But', 'the', 'note', 'itself', '.', 'What', 'do', 'you', 'deduce', 'from', 'it', '?', '”', 'I', 'carefully', 'examined', 'the', 'writing', ',', 'and', 'the', 'paper', 'upon', 'which', 'it', 'was', 'written', '.', '“', 'The', 'man', 'who', 'wrote', 'it', 'was', 'presumably', 'well', 'to', 'do', ',', '”', 'I', 'remarked', ',', 'endeavouring', 'to', 'imitate', 'my', 'companion', '’', 's', 'processes', '.', '“', 'Such', 'paper', 'could', 'not', 'be', 'bought', 'under', 'half', 'a', 'crown', 'a', 'packet', '.', 'It', 'is', 'peculiarly', 'strong', 'and', 'stiff.', '”', '“', 'Peculiar—that', 'is', 'the', 'very', 'word', ',', '”', 'said', 'Holmes', '.', '“', 'It', 'is', 'not', 'an', 'English', 'paper', 'at', 'all', '.', 'Hold', 'it', 'up', 'to', 'the', 'light.']\n"
          ]
        }
      ]
    },
    {
      "cell_type": "code",
      "source": [
        "#Beautiful Soup\n",
        "#Preprocessing - RE to clean any html tags or unnecessary\n",
        "#POS Tagging"
      ],
      "metadata": {
        "id": "cFU_vNciL6fJ"
      },
      "execution_count": null,
      "outputs": []
    },
    {
      "cell_type": "markdown",
      "source": [
        "# ***Stemmers - Task 4.2***"
      ],
      "metadata": {
        "id": "Ej99_z8LMdyL"
      }
    },
    {
      "cell_type": "code",
      "source": [
        "import nltk\n",
        "from nltk.stem import PorterStemmer\n",
        "porter = PorterStemmer()\n",
        "print(porter.stem('happiness'))\n",
        "print(porter.stem('joyous'))\n",
        "print(porter.stem('cacti'))"
      ],
      "metadata": {
        "colab": {
          "base_uri": "https://localhost:8080/"
        },
        "id": "_rCjNq8pMUH2",
        "outputId": "0d2b4529-b8af-4b12-800a-2f50c6c1e0c8"
      },
      "execution_count": 19,
      "outputs": [
        {
          "output_type": "stream",
          "name": "stdout",
          "text": [
            "happi\n",
            "joyou\n",
            "cacti\n"
          ]
        }
      ]
    },
    {
      "cell_type": "code",
      "source": [
        "import nltk\n",
        "from nltk.stem import LancasterStemmer\n",
        "Lancaster = LancasterStemmer()\n",
        "print(Lancaster.stem('happiness'))\n",
        "print(Lancaster.stem('joyous'))\n",
        "print(Lancaster.stem('cacti'))\n",
        "print(Lancaster.stem('singing'))"
      ],
      "metadata": {
        "colab": {
          "base_uri": "https://localhost:8080/"
        },
        "id": "m8MlfEvKNSPI",
        "outputId": "ccab69b9-6758-4a8c-ab6a-e179258e4814"
      },
      "execution_count": 21,
      "outputs": [
        {
          "output_type": "stream",
          "name": "stdout",
          "text": [
            "happy\n",
            "joy\n",
            "cact\n",
            "sing\n"
          ]
        }
      ]
    },
    {
      "cell_type": "code",
      "source": [
        "import nltk\n",
        "from nltk.stem import RegexpStemmer\n",
        "reg = RegexpStemmer('ing')\n",
        "print(reg.stem('singing'))\n",
        "print(reg.stem('walking'))"
      ],
      "metadata": {
        "colab": {
          "base_uri": "https://localhost:8080/"
        },
        "id": "C67tdTe3Ngj_",
        "outputId": "00681b0a-0e90-46ab-f40c-63789f2bb530"
      },
      "execution_count": 24,
      "outputs": [
        {
          "output_type": "stream",
          "name": "stdout",
          "text": [
            "s\n",
            "walk\n"
          ]
        }
      ]
    },
    {
      "cell_type": "code",
      "source": [
        "import nltk\n",
        "from nltk.stem import SnowballStemmer\n",
        "snow = SnowballStemmer('french')\n",
        "print(snow.stem('manges'))\n",
        "print(snow.stem('bonjour'))\n",
        "print(snow.stem('detester'))"
      ],
      "metadata": {
        "colab": {
          "base_uri": "https://localhost:8080/"
        },
        "id": "5oZkGtIXOzTU",
        "outputId": "3e706a81-b760-4e92-cb00-132c9360e107"
      },
      "execution_count": 29,
      "outputs": [
        {
          "output_type": "stream",
          "name": "stdout",
          "text": [
            "mang\n",
            "bonjour\n",
            "detest\n"
          ]
        }
      ]
    },
    {
      "cell_type": "code",
      "source": [
        "porter = PorterStemmer()\n",
        "text = \"\"\"His manner was not effusive. It seldom was; but he was glad, I think,to see me. With hardly a word spoken, but with a kindly eye, he waved me to an armchair, threw across his case of cigars, and indicated a spirit case and a gasogene in the corner. Then he stood before the fire and looked me over in his singular introspective fashion.\"\"\"\n",
        "stemmed = [porter.stem(token) for token in text.split(\" \")]\n",
        "print(stemmed)\n"
      ],
      "metadata": {
        "colab": {
          "base_uri": "https://localhost:8080/"
        },
        "id": "rKrcSmPjQE5x",
        "outputId": "9189de94-d6de-4759-af52-5f5b414a59a2"
      },
      "execution_count": 32,
      "outputs": [
        {
          "output_type": "stream",
          "name": "stdout",
          "text": [
            "['hi', 'manner', 'wa', 'not', 'effusive.', 'it', 'seldom', 'was;', 'but', 'he', 'wa', 'glad,', 'i', 'think,to', 'see', 'me.', 'with', 'hardli', 'a', 'word', 'spoken,', 'but', 'with', 'a', 'kindli', 'eye,', 'he', 'wave', 'me', 'to', 'an', 'armchair,', 'threw', 'across', 'hi', 'case', 'of', 'cigars,', 'and', 'indic', 'a', 'spirit', 'case', 'and', 'a', 'gasogen', 'in', 'the', 'corner.', 'then', 'he', 'stood', 'befor', 'the', 'fire', 'and', 'look', 'me', 'over', 'in', 'hi', 'singular', 'introspect', 'fashion.']\n"
          ]
        }
      ]
    },
    {
      "cell_type": "code",
      "source": [
        "#nltk.download('wordnet')\n",
        "#nltk.download('omw-1.4')\n",
        "from nltk import WordNetLemmatizer\n",
        "lemma = WordNetLemmatizer()\n",
        "print(lemma.lemmatize(\"am\"))\n",
        "print(lemma.lemmatize(\"cacti\"))\n",
        "print(lemma.lemmatize(\"mice\"))"
      ],
      "metadata": {
        "colab": {
          "base_uri": "https://localhost:8080/"
        },
        "id": "FJBDbAX4RcAG",
        "outputId": "becc0be2-c361-4de7-ee01-018ceedd8907"
      },
      "execution_count": 39,
      "outputs": [
        {
          "output_type": "stream",
          "name": "stdout",
          "text": [
            "am\n",
            "cactus\n",
            "mouse\n"
          ]
        }
      ]
    },
    {
      "cell_type": "code",
      "source": [
        "print(lemma.lemmatize(\"am\",pos='v'))"
      ],
      "metadata": {
        "colab": {
          "base_uri": "https://localhost:8080/"
        },
        "id": "Iran0kWbS4W0",
        "outputId": "71ccbad5-9da8-462a-c597-49da6ac241c3"
      },
      "execution_count": 44,
      "outputs": [
        {
          "output_type": "stream",
          "name": "stdout",
          "text": [
            "be\n"
          ]
        }
      ]
    },
    {
      "cell_type": "code",
      "source": [
        "print(lemma.lemmatize(\"mice\",pos='n'))"
      ],
      "metadata": {
        "colab": {
          "base_uri": "https://localhost:8080/"
        },
        "id": "pfgRYeTwTZFe",
        "outputId": "b0b2020e-ae49-4219-ddad-faf0d9a89792"
      },
      "execution_count": 45,
      "outputs": [
        {
          "output_type": "stream",
          "name": "stdout",
          "text": [
            "mouse\n"
          ]
        }
      ]
    }
  ]
}