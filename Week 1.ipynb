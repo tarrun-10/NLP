{
 "cells": [
  {
   "cell_type": "code",
   "execution_count": 1,
   "id": "0c24946c",
   "metadata": {},
   "outputs": [],
   "source": [
    "import nltk"
   ]
  },
  {
   "cell_type": "code",
   "execution_count": 49,
   "id": "f74cd308",
   "metadata": {
    "scrolled": true
   },
   "outputs": [
    {
     "name": "stderr",
     "output_type": "stream",
     "text": [
      "[nltk_data] Downloading package inaugural to\n",
      "[nltk_data]     C:\\Users\\dhamo\\AppData\\Roaming\\nltk_data...\n",
      "[nltk_data]   Package inaugural is already up-to-date!\n"
     ]
    },
    {
     "data": {
      "text/plain": [
       "True"
      ]
     },
     "execution_count": 49,
     "metadata": {},
     "output_type": "execute_result"
    }
   ],
   "source": [
    "nltk.download('inaugural')"
   ]
  },
  {
   "cell_type": "code",
   "execution_count": 2,
   "id": "99daa3a1",
   "metadata": {},
   "outputs": [],
   "source": [
    "from nltk.corpus import brown"
   ]
  },
  {
   "cell_type": "code",
   "execution_count": 3,
   "id": "cc727fad",
   "metadata": {
    "scrolled": true
   },
   "outputs": [
    {
     "data": {
      "text/plain": [
       "['adventure',\n",
       " 'belles_lettres',\n",
       " 'editorial',\n",
       " 'fiction',\n",
       " 'government',\n",
       " 'hobbies',\n",
       " 'humor',\n",
       " 'learned',\n",
       " 'lore',\n",
       " 'mystery',\n",
       " 'news',\n",
       " 'religion',\n",
       " 'reviews',\n",
       " 'romance',\n",
       " 'science_fiction']"
      ]
     },
     "execution_count": 3,
     "metadata": {},
     "output_type": "execute_result"
    }
   ],
   "source": [
    "brown.categories()"
   ]
  },
  {
   "cell_type": "code",
   "execution_count": 4,
   "id": "f409269b",
   "metadata": {},
   "outputs": [],
   "source": [
    "l = brown.words(categories = 'religion')[:150]\n",
    "s = \"\"\n",
    "for i in l:\n",
    "    s += i\n",
    "    s += \" \""
   ]
  },
  {
   "cell_type": "code",
   "execution_count": 5,
   "id": "d05bf364",
   "metadata": {},
   "outputs": [
    {
     "data": {
      "text/plain": [
       "\"As a result , although we still make use of this distinction , there is much confusion as to the meaning of the basic terms employed . Just what is meant by `` spirit '' and by `` matter '' ? ? The terms are generally taken for granted as though they referred to direct and axiomatic elements in the common experience of all . Yet in the contemporary context this is precisely what one must not do . For in the modern world neither `` spirit '' nor `` matter '' refer to any generally agreed-upon elements of experience . We are in a transitional stage in which many of the connotations of former usage have had to be revised or rejected . When the words are used , we are never sure which of the traditional meanings the user may have in mind , or to what extent \""
      ]
     },
     "execution_count": 5,
     "metadata": {},
     "output_type": "execute_result"
    }
   ],
   "source": [
    "s"
   ]
  },
  {
   "cell_type": "code",
   "execution_count": 6,
   "id": "f4e9e427",
   "metadata": {},
   "outputs": [],
   "source": [
    "from nltk.corpus import inaugural"
   ]
  },
  {
   "cell_type": "code",
   "execution_count": 7,
   "id": "c8e6a86b",
   "metadata": {},
   "outputs": [
    {
     "data": {
      "text/plain": [
       "['1789-Washington.txt',\n",
       " '1793-Washington.txt',\n",
       " '1797-Adams.txt',\n",
       " '1801-Jefferson.txt',\n",
       " '1805-Jefferson.txt',\n",
       " '1809-Madison.txt',\n",
       " '1813-Madison.txt',\n",
       " '1817-Monroe.txt',\n",
       " '1821-Monroe.txt',\n",
       " '1825-Adams.txt',\n",
       " '1829-Jackson.txt',\n",
       " '1833-Jackson.txt',\n",
       " '1837-VanBuren.txt',\n",
       " '1841-Harrison.txt',\n",
       " '1845-Polk.txt',\n",
       " '1849-Taylor.txt',\n",
       " '1853-Pierce.txt',\n",
       " '1857-Buchanan.txt',\n",
       " '1861-Lincoln.txt',\n",
       " '1865-Lincoln.txt',\n",
       " '1869-Grant.txt',\n",
       " '1873-Grant.txt',\n",
       " '1877-Hayes.txt',\n",
       " '1881-Garfield.txt',\n",
       " '1885-Cleveland.txt',\n",
       " '1889-Harrison.txt',\n",
       " '1893-Cleveland.txt',\n",
       " '1897-McKinley.txt',\n",
       " '1901-McKinley.txt',\n",
       " '1905-Roosevelt.txt',\n",
       " '1909-Taft.txt',\n",
       " '1913-Wilson.txt',\n",
       " '1917-Wilson.txt',\n",
       " '1921-Harding.txt',\n",
       " '1925-Coolidge.txt',\n",
       " '1929-Hoover.txt',\n",
       " '1933-Roosevelt.txt',\n",
       " '1937-Roosevelt.txt',\n",
       " '1941-Roosevelt.txt',\n",
       " '1945-Roosevelt.txt',\n",
       " '1949-Truman.txt',\n",
       " '1953-Eisenhower.txt',\n",
       " '1957-Eisenhower.txt',\n",
       " '1961-Kennedy.txt',\n",
       " '1965-Johnson.txt',\n",
       " '1969-Nixon.txt',\n",
       " '1973-Nixon.txt',\n",
       " '1977-Carter.txt',\n",
       " '1981-Reagan.txt',\n",
       " '1985-Reagan.txt',\n",
       " '1989-Bush.txt',\n",
       " '1993-Clinton.txt',\n",
       " '1997-Clinton.txt',\n",
       " '2001-Bush.txt',\n",
       " '2005-Bush.txt',\n",
       " '2009-Obama.txt',\n",
       " '2013-Obama.txt',\n",
       " '2017-Trump.txt',\n",
       " '2021-Biden.txt']"
      ]
     },
     "execution_count": 7,
     "metadata": {},
     "output_type": "execute_result"
    }
   ],
   "source": [
    "inaugural.fileids()"
   ]
  },
  {
   "cell_type": "code",
   "execution_count": 8,
   "id": "dfb90494",
   "metadata": {},
   "outputs": [],
   "source": [
    "l = inaugural.words(fileids='2013-Obama.txt')[:500]\n",
    "s = \"\"\n",
    "for i in l:\n",
    "    s += i\n",
    "    s += \" \""
   ]
  },
  {
   "cell_type": "code",
   "execution_count": 9,
   "id": "37b2cfab",
   "metadata": {},
   "outputs": [
    {
     "data": {
      "text/plain": [
       "\"Thank you . Thank you so much . Vice President Biden , Mr . Chief Justice , Members of the United States Congress , distinguished guests , and fellow citizens : Each time we gather to inaugurate a President we bear witness to the enduring strength of our Constitution . We affirm the promise of our democracy . We recall that what binds this Nation together is not the colors of our skin or the tenets of our faith or the origins of our names . What makes us exceptionalâ \\x80\\x94 what makes us Americanâ \\x80\\x94 is our allegiance to an idea articulated in a declaration made more than two centuries ago : We hold these truths to be self - evident , that all men are created equal ; that they are endowed by their Creator with certain unalienable rights ; that among these are life , liberty , and the pursuit of happiness . Today we continue a never - ending journey to bridge the meaning of those words with the realities of our time . For history tells us that while these truths may be self - evident , they ' ve never been self - executing ; that while freedom is a gift from God , it must be secured by His people here on Earth . The patriots of 1776 did not fight to replace the tyranny of a king with the privileges of a few or the rule of a mob . They gave to us a republic , a government of and by and for the people , entrusting each generation to keep safe our founding creed . And for more than 200 years , we have . Through blood drawn by lash and blood drawn by sword , we learned that no union founded on the principles of liberty and equality could survive half - slave and half - free . We made ourselves anew , and vowed to move forward together . Together , we determined that a modern economy requires railroads and highways to speed travel and commerce , schools and colleges to train our workers . Together , we discovered that a free market only thrives when there are rules to ensure competition and fair play . Together , we resolved that a great nation must care for the vulnerable and protect its people from life ' s worst hazards and misfortune . Through it all , we have never relinquished our skepticism of central authority nor have we succumbed to the fiction that all society ' s ills can be cured through government alone . Our celebration of initiative and enterprise , our insistence on hard work and personal responsibility , these are constants in our character . But we have always understood that when times change , so must we ; that fidelity to our founding principles requires new responses to new challenges ; that preserving our individual freedoms ultimately requires collective action . For the American \""
      ]
     },
     "execution_count": 9,
     "metadata": {},
     "output_type": "execute_result"
    }
   ],
   "source": [
    "s"
   ]
  },
  {
   "cell_type": "code",
   "execution_count": null,
   "id": "a3978f21",
   "metadata": {},
   "outputs": [],
   "source": []
  }
 ],
 "metadata": {
  "kernelspec": {
   "display_name": "Python 3 (ipykernel)",
   "language": "python",
   "name": "python3"
  },
  "language_info": {
   "codemirror_mode": {
    "name": "ipython",
    "version": 3
   },
   "file_extension": ".py",
   "mimetype": "text/x-python",
   "name": "python",
   "nbconvert_exporter": "python",
   "pygments_lexer": "ipython3",
   "version": "3.10.5"
  }
 },
 "nbformat": 4,
 "nbformat_minor": 5
}
